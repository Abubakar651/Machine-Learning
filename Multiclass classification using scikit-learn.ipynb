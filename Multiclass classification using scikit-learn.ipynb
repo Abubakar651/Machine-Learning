{
 "cells": [
  {
   "cell_type": "markdown",
   "id": "ae12ac9b",
   "metadata": {},
   "source": [
    "Multiclass classification using scikit-learn\n",
    "Last Updated : 21 Nov, 2024\n",
    "Multiclass classification is a popular problem in supervised machine learning.\n",
    "\n",
    "Problem - Given a dataset of m training examples, each of which contains information in the form of various features and a label. Each label corresponds to a class, to which the training example belongs. In multiclass classification, we have a finite set of classes. Each training example also has n features. \n",
    "\n",
    "For example, in the case of identification of different types of fruits, \"Shape\", \"Color\", \"Radius\" can be featured, and \"Apple\", \"Orange\", \"Banana\" can be different class labels. \n",
    "\n",
    "In a multiclass classification, we train a classifier using our training data and use this classifier for classifying new examples. \n",
    "\n",
    "Aim of this article - We will use different multiclass classification methods such as, KNN, Decision trees, SVM, etc. We will compare their accuracy on test data. We will perform all this with sci-kit learn (Python). For information on how to install and use sci-kit learn, visit https://scikit-learn.org/stable/\n",
    "\n",
    "Approach -  \n",
    "\n",
    "Load dataset from the source.\n",
    "Split the dataset into \"training\" and \"test\" data.\n",
    "Train Decision tree, SVM, and KNN classifiers on the training data.\n",
    "Use the above classifiers to predict labels for the test data.\n",
    "Measure accuracy and visualize classification.\n",
    "Decision tree classifier - A decision tree classifier is a systematic approach for multiclass classification. It poses a set of questions to the dataset (related to its attributes/features). The decision tree classification algorithm can be visualized on a binary tree. On the root and each of the internal nodes, a question is posed and the data on that node is further split into separate records that have different characteristics. The leaves of the tree refer to the classes in which the dataset is split. In the following code snippet, we train a decision tree classifier in scikit-learn."
   ]
  },
  {
   "cell_type": "code",
   "execution_count": 11,
   "id": "b9042ffe",
   "metadata": {},
   "outputs": [
    {
     "name": "stdout",
     "output_type": "stream",
     "text": [
      "D tree predictions\n",
      " [2 1 0 2 0 2 0 1 1 1 2 1 1 1 1 0 1 1 0 0 1 1 0 0 1 0 0 1 1 0 2 1 0 1 2 1 0\n",
      " 2]\n",
      "confusion_matrix\n",
      " [[13  0  0]\n",
      " [ 0 15  1]\n",
      " [ 0  3  6]]\n"
     ]
    }
   ],
   "source": [
    "# importing necessary libraries\n",
    "from sklearn import datasets\n",
    "from sklearn.metrics import confusion_matrix\n",
    "from sklearn.model_selection import train_test_split\n",
    "\n",
    "# loading the iris dataset\n",
    "iris = datasets.load_iris()\n",
    "\n",
    "# X -> features, y -> label\n",
    "X = iris.data\n",
    "y = iris.target\n",
    "\n",
    "# dividing X, y into train and test data\n",
    "X_train, X_test, y_train, y_test = train_test_split(X, y, random_state = 0)\n",
    "\n",
    "# training a DescisionTreeClassifier\n",
    "from sklearn.tree import DecisionTreeClassifier\n",
    "dtree_model = DecisionTreeClassifier(max_depth = 2).fit(X_train, y_train)\n",
    "dtree_predictions = dtree_model.predict(X_test)\n",
    "print(\"D tree predictions\\n\",dtree_predictions)\n",
    "# creating a confusion matrix\n",
    "cm = confusion_matrix(y_test, dtree_predictions)\n",
    "print(\"confusion_matrix\\n\",cm)"
   ]
  },
  {
   "cell_type": "markdown",
   "id": "62bcee84",
   "metadata": {},
   "source": [
    "SVM (Support vector machine) classifier - \n",
    "SVM (Support vector machine) is an efficient classification method when the feature vector is high dimensional. In sci-kit learn, we can specify the kernel function (here, linear). To know more about kernel functions and SVM refer - Kernel function | sci-kit learn and SVM."
   ]
  },
  {
   "cell_type": "code",
   "execution_count": 9,
   "id": "15a3bb3f",
   "metadata": {},
   "outputs": [
    {
     "name": "stdout",
     "output_type": "stream",
     "text": [
      "Prediction\n",
      " [2 1 0 2 0 2 0 1 1 1 2 1 1 1 1 0 1 1 0 0 2 1 0 0 2 0 0 1 1 0 2 1 0 2 2 1 0\n",
      " 2]\n",
      "Accuracy: 0.9736842105263158\n",
      "Confusion matrix\n",
      " [[13  0  0]\n",
      " [ 0 15  1]\n",
      " [ 0  0  9]]\n"
     ]
    }
   ],
   "source": [
    "from sklearn import datasets\n",
    "from sklearn.metrics import confusion_matrix\n",
    "from sklearn.model_selection import train_test_split\n",
    "\n",
    "iris=datasets.load_iris()\n",
    "X=iris.data\n",
    "y=iris.target\n",
    "X_train,X_test,y_train,y_test=train_test_split(X,y,random_state=0)\n",
    "from sklearn.svm import SVC\n",
    "svm_model_linear=SVC(kernel='linear',C=1).fit(X_train,y_train)\n",
    "svm_predictions = svm_model_linear.predict(X_test)\n",
    "print(\"Prediction\\n\",svm_predictions)\n",
    "accuracy=svm_model_linear.score(X_test,y_test)\n",
    "print(\"Accuracy:\", accuracy)\n",
    "cm=confusion_matrix(y_test,svm_predictions)\n",
    "print(\"Confusion matrix\\n\",cm)\n",
    "\n"
   ]
  },
  {
   "cell_type": "markdown",
   "id": "3fa632fb",
   "metadata": {},
   "source": [
    "KNN (k-nearest neighbors) classifier - KNN or k-nearest neighbors is the simplest classification algorithm. This classification algorithm does not depend on the structure of the data. Whenever a new example is encountered, its k nearest neighbors from the training data are examined. Distance between two examples can be the euclidean distance between their feature vectors. The majority class among the k nearest neighbors is taken to be the class for the encountered example. "
   ]
  },
  {
   "cell_type": "code",
   "execution_count": 15,
   "id": "da603f37",
   "metadata": {},
   "outputs": [
    {
     "name": "stdout",
     "output_type": "stream",
     "text": [
      "Accuracy 0.9736842105263158\n",
      "KNN prediction [2 1 0 2 0 2 0 1 1 1 2 1 1 1 1 0 1 1 0 0 2 1 0 0 2 0 0 1 1 0 2 1 0 2 2 1 0\n",
      " 2]\n",
      "\n",
      " [[13  0  0]\n",
      " [ 0 15  1]\n",
      " [ 0  0  9]]\n"
     ]
    }
   ],
   "source": [
    "from sklearn import datasets\n",
    "from sklearn.metrics import confusion_matrix\n",
    "from sklearn.model_selection import train_test_split\n",
    "iris=datasets.load_iris()\n",
    "X=iris.data\n",
    "y=iris.target\n",
    "X_train,X_test,y_train,y_test=train_test_split(X,y,random_state=0)\n",
    "# training a KNN classifier\n",
    "from sklearn.neighbors import KNeighborsClassifier\n",
    "knn=KNeighborsClassifier(n_neighbors=7).fit(X_train,y_train)\n",
    "knn_accuracy=knn.score(X_test,y_test)\n",
    "print(\"Accuracy\",knn_accuracy)\n",
    "knn_predictions=knn.predict(X_test)\n",
    "print(\"KNN prediction\",knn_predictions)\n",
    "cm=confusion_matrix(y_test,knn_predictions)\n",
    "print(\"\\n\",cm)"
   ]
  },
  {
   "cell_type": "code",
   "execution_count": 18,
   "id": "3f068b01",
   "metadata": {},
   "outputs": [
    {
     "name": "stdout",
     "output_type": "stream",
     "text": [
      "gnb_prediction [2 1 0 2 0 2 0 1 1 1 2 1 1 1 1 0 1 1 0 0 2 1 0 0 2 0 0 1 1 0 2 1 0 2 2 1 0\n",
      " 1]\n",
      "gnb_Accurayc 1.0\n"
     ]
    }
   ],
   "source": [
    "from sklearn import datasets\n",
    "from sklearn.metrics import confusion_matrix\n",
    "from sklearn.model_selection import train_test_split\n",
    "iris=datasets.load_iris()\n",
    "X=iris.data\n",
    "y=iris.target\n",
    "X_train, X_test, y_train, y_test = train_test_split(X, y, random_state = 0)\n",
    "from sklearn.naive_bayes import GaussianNB\n",
    "gnb= GaussianNB().fit(X_train,y_train)\n",
    "gnb_predictions=gnb.predict(X_test)\n",
    "print(\"gnb_prediction\",gnb_predictions)\n",
    "gnb_accuracy=gnb.score(X_test,y_test)\n",
    "print(\"gnb_Accurayc\",gnb_accuracy)\n",
    "cm=confusion_matrix(y_test,gnb_predictions)"
   ]
  },
  {
   "cell_type": "code",
   "execution_count": null,
   "id": "904b06cc",
   "metadata": {},
   "outputs": [],
   "source": []
  }
 ],
 "metadata": {
  "kernelspec": {
   "display_name": ".venv (3.12.6)",
   "language": "python",
   "name": "python3"
  },
  "language_info": {
   "codemirror_mode": {
    "name": "ipython",
    "version": 3
   },
   "file_extension": ".py",
   "mimetype": "text/x-python",
   "name": "python",
   "nbconvert_exporter": "python",
   "pygments_lexer": "ipython3",
   "version": "3.12.6"
  }
 },
 "nbformat": 4,
 "nbformat_minor": 5
}
